{
 "cells": [
  {
   "cell_type": "markdown",
   "metadata": {},
   "source": [
    "# Perceived LGBT/Gender in Police Stop Data"
   ]
  },
  {
   "cell_type": "code",
   "execution_count": 1,
   "metadata": {},
   "outputs": [],
   "source": [
    "import numpy as np\n",
    "import pandas as pd\n",
    "import matplotlib.pyplot as plt\n",
    "### Alan's Assignment Function\n",
    "import Assignment as a\n",
    "df = pd.read_csv(\"ripa_stops_datasd.csv\", low_memory=False)"
   ]
  },
  {
   "cell_type": "markdown",
   "metadata": {},
   "source": [
    "## Alan's Plotting Function"
   ]
  },
  {
   "cell_type": "code",
   "execution_count": 2,
   "metadata": {},
   "outputs": [],
   "source": [
    "def PlotResults(X,r,algos=[\"K - Means\",\"Mixture of Gaussians\",\"Birch\"],xaxis=\"xaxis\",yaxis=\"yaxis\",fontsize='13'):\n",
    "    '''\n",
    "    Plots cluster results\n",
    "        Parameters:\n",
    "            X[2xN Matrix]: 2xN Matrix of Datapoints to be plotted\n",
    "            r[?xN Matrix]: NumClusteringAlgorithmsxN Matrix of Datapoint Assignments from the Clustering Algorithms.\n",
    "            algos[? indexed array of strings]: Titles for each of the plots based on the clustering algorithms presented.\n",
    "            xaxis[string]: Label for the x axis\n",
    "            yaxis[string]: Label for the x axis\n",
    "        Returns:\n",
    "            Plotted results of clustering algorithms in 2x[NumclusteringAlgorithms/2] subplot figure with different colors for each cluster\n",
    "    '''\n",
    "    \n",
    "    col = 3\n",
    "    rows = int(np.ceil(len(r)/col))\n",
    "    \n",
    "    K = len(np.unique(r[0]))\n",
    "    \n",
    "    fig, axs = plt.subplots(rows, col, figsize=(6*col,5*rows), sharex=True, sharey=True)\n",
    "\n",
    "    \n",
    "    for i in range(len(axs)):\n",
    "        axs[i].set_title(algos[i], fontsize=fontsize)\n",
    "    \n",
    "    COLORS = ['r','g','b','m','c','y','k']\n",
    "    \n",
    "    for i in range(len(r)):\n",
    "        colors = None\n",
    "        colors = np.where(r[i]==0,COLORS[0],'-')\n",
    "        for k in range(K-1):\n",
    "            colors[r[i]==k+1] = COLORS[k+1]\n",
    "        if(rows>1):\n",
    "            axs[int(i/col),i%col].scatter(X[0], X[1], c=colors)\n",
    "        else:\n",
    "            axs[i].scatter(X[0], X[1], c=colors)\n",
    "    \n",
    "    # Create common X and Y axis\n",
    "    fig.add_subplot(111, frame_on=False)\n",
    "    plt.tick_params(labelcolor=\"none\", bottom=False, left=False)\n",
    "\n",
    "    plt.xlabel(xaxis, fontsize=fontsize)\n",
    "    plt.ylabel(yaxis, fontsize=fontsize)"
   ]
  },
  {
   "cell_type": "markdown",
   "metadata": {},
   "source": [
    "## Individual Data Pre-Processing"
   ]
  },
  {
   "cell_type": "code",
   "execution_count": 3,
   "metadata": {},
   "outputs": [
    {
     "data": {
      "text/html": [
       "<div>\n",
       "<style scoped>\n",
       "    .dataframe tbody tr th:only-of-type {\n",
       "        vertical-align: middle;\n",
       "    }\n",
       "\n",
       "    .dataframe tbody tr th {\n",
       "        vertical-align: top;\n",
       "    }\n",
       "\n",
       "    .dataframe thead th {\n",
       "        text-align: right;\n",
       "    }\n",
       "</style>\n",
       "<table border=\"1\" class=\"dataframe\">\n",
       "  <thead>\n",
       "    <tr style=\"text-align: right;\">\n",
       "      <th></th>\n",
       "      <th>stop_id</th>\n",
       "      <th>ori</th>\n",
       "      <th>agency</th>\n",
       "      <th>exp_years</th>\n",
       "      <th>date_stop</th>\n",
       "      <th>time_stop</th>\n",
       "      <th>stopduration</th>\n",
       "      <th>stop_in_response_to_cfs</th>\n",
       "      <th>officer_assignment_key</th>\n",
       "      <th>assignment</th>\n",
       "      <th>...</th>\n",
       "      <th>beat_name</th>\n",
       "      <th>pid</th>\n",
       "      <th>isstudent</th>\n",
       "      <th>perceived_limited_english</th>\n",
       "      <th>perceived_age</th>\n",
       "      <th>perceived_gender</th>\n",
       "      <th>gender_nonconforming</th>\n",
       "      <th>gend</th>\n",
       "      <th>gend_nc</th>\n",
       "      <th>perceived_lgbt</th>\n",
       "    </tr>\n",
       "  </thead>\n",
       "  <tbody>\n",
       "    <tr>\n",
       "      <th>0</th>\n",
       "      <td>2443</td>\n",
       "      <td>CA0371100</td>\n",
       "      <td>SD</td>\n",
       "      <td>10</td>\n",
       "      <td>2018-07-01</td>\n",
       "      <td>00:01:37</td>\n",
       "      <td>30</td>\n",
       "      <td>0</td>\n",
       "      <td>1</td>\n",
       "      <td>Patrol, traffic enforcement, field operations</td>\n",
       "      <td>...</td>\n",
       "      <td>Pacific Beach 122</td>\n",
       "      <td>1</td>\n",
       "      <td>0</td>\n",
       "      <td>0</td>\n",
       "      <td>25</td>\n",
       "      <td>Male</td>\n",
       "      <td>0</td>\n",
       "      <td>1</td>\n",
       "      <td>NaN</td>\n",
       "      <td>No</td>\n",
       "    </tr>\n",
       "    <tr>\n",
       "      <th>1</th>\n",
       "      <td>2444</td>\n",
       "      <td>CA0371100</td>\n",
       "      <td>SD</td>\n",
       "      <td>18</td>\n",
       "      <td>2018-07-01</td>\n",
       "      <td>00:03:34</td>\n",
       "      <td>10</td>\n",
       "      <td>0</td>\n",
       "      <td>1</td>\n",
       "      <td>Patrol, traffic enforcement, field operations</td>\n",
       "      <td>...</td>\n",
       "      <td>Mission Beach 121</td>\n",
       "      <td>1</td>\n",
       "      <td>0</td>\n",
       "      <td>0</td>\n",
       "      <td>25</td>\n",
       "      <td>Male</td>\n",
       "      <td>0</td>\n",
       "      <td>1</td>\n",
       "      <td>NaN</td>\n",
       "      <td>No</td>\n",
       "    </tr>\n",
       "    <tr>\n",
       "      <th>2</th>\n",
       "      <td>2447</td>\n",
       "      <td>CA0371100</td>\n",
       "      <td>SD</td>\n",
       "      <td>1</td>\n",
       "      <td>2018-07-01</td>\n",
       "      <td>00:05:43</td>\n",
       "      <td>15</td>\n",
       "      <td>1</td>\n",
       "      <td>10</td>\n",
       "      <td>Other</td>\n",
       "      <td>...</td>\n",
       "      <td>El Cerrito 822</td>\n",
       "      <td>1</td>\n",
       "      <td>0</td>\n",
       "      <td>0</td>\n",
       "      <td>30</td>\n",
       "      <td>Male</td>\n",
       "      <td>0</td>\n",
       "      <td>1</td>\n",
       "      <td>NaN</td>\n",
       "      <td>No</td>\n",
       "    </tr>\n",
       "    <tr>\n",
       "      <th>3</th>\n",
       "      <td>2447</td>\n",
       "      <td>CA0371100</td>\n",
       "      <td>SD</td>\n",
       "      <td>1</td>\n",
       "      <td>2018-07-01</td>\n",
       "      <td>00:05:43</td>\n",
       "      <td>15</td>\n",
       "      <td>1</td>\n",
       "      <td>10</td>\n",
       "      <td>Other</td>\n",
       "      <td>...</td>\n",
       "      <td>El Cerrito 822</td>\n",
       "      <td>2</td>\n",
       "      <td>0</td>\n",
       "      <td>0</td>\n",
       "      <td>30</td>\n",
       "      <td>Female</td>\n",
       "      <td>0</td>\n",
       "      <td>2</td>\n",
       "      <td>NaN</td>\n",
       "      <td>No</td>\n",
       "    </tr>\n",
       "    <tr>\n",
       "      <th>4</th>\n",
       "      <td>2448</td>\n",
       "      <td>CA0371100</td>\n",
       "      <td>SD</td>\n",
       "      <td>3</td>\n",
       "      <td>2018-07-01</td>\n",
       "      <td>00:19:06</td>\n",
       "      <td>5</td>\n",
       "      <td>0</td>\n",
       "      <td>1</td>\n",
       "      <td>Patrol, traffic enforcement, field operations</td>\n",
       "      <td>...</td>\n",
       "      <td>Ocean Beach 614</td>\n",
       "      <td>1</td>\n",
       "      <td>0</td>\n",
       "      <td>0</td>\n",
       "      <td>23</td>\n",
       "      <td>Male</td>\n",
       "      <td>0</td>\n",
       "      <td>1</td>\n",
       "      <td>NaN</td>\n",
       "      <td>No</td>\n",
       "    </tr>\n",
       "  </tbody>\n",
       "</table>\n",
       "<p>5 rows × 29 columns</p>\n",
       "</div>"
      ],
      "text/plain": [
       "   stop_id        ori agency  exp_years   date_stop time_stop  stopduration  \\\n",
       "0     2443  CA0371100     SD         10  2018-07-01  00:01:37            30   \n",
       "1     2444  CA0371100     SD         18  2018-07-01  00:03:34            10   \n",
       "2     2447  CA0371100     SD          1  2018-07-01  00:05:43            15   \n",
       "3     2447  CA0371100     SD          1  2018-07-01  00:05:43            15   \n",
       "4     2448  CA0371100     SD          3  2018-07-01  00:19:06             5   \n",
       "\n",
       "   stop_in_response_to_cfs  officer_assignment_key  \\\n",
       "0                        0                       1   \n",
       "1                        0                       1   \n",
       "2                        1                      10   \n",
       "3                        1                      10   \n",
       "4                        0                       1   \n",
       "\n",
       "                                      assignment  ...          beat_name  pid  \\\n",
       "0  Patrol, traffic enforcement, field operations  ...  Pacific Beach 122    1   \n",
       "1  Patrol, traffic enforcement, field operations  ...  Mission Beach 121    1   \n",
       "2                                          Other  ...     El Cerrito 822    1   \n",
       "3                                          Other  ...     El Cerrito 822    2   \n",
       "4  Patrol, traffic enforcement, field operations  ...    Ocean Beach 614    1   \n",
       "\n",
       "  isstudent perceived_limited_english perceived_age  perceived_gender  \\\n",
       "0         0                         0            25              Male   \n",
       "1         0                         0            25              Male   \n",
       "2         0                         0            30              Male   \n",
       "3         0                         0            30            Female   \n",
       "4         0                         0            23              Male   \n",
       "\n",
       "  gender_nonconforming gend  gend_nc perceived_lgbt  \n",
       "0                    0    1      NaN             No  \n",
       "1                    0    1      NaN             No  \n",
       "2                    0    1      NaN             No  \n",
       "3                    0    2      NaN             No  \n",
       "4                    0    1      NaN             No  \n",
       "\n",
       "[5 rows x 29 columns]"
      ]
     },
     "execution_count": 3,
     "metadata": {},
     "output_type": "execute_result"
    }
   ],
   "source": [
    "df.head()"
   ]
  },
  {
   "cell_type": "code",
   "execution_count": null,
   "metadata": {},
   "outputs": [],
   "source": []
  },
  {
   "cell_type": "code",
   "execution_count": 4,
   "metadata": {},
   "outputs": [],
   "source": [
    "### Perceived LGBT\n",
    "df[\"perceived_lgbt\"] = df[\"perceived_lgbt\"].replace(\"Yes\", 1)\n",
    "df[\"perceived_lgbt\"] = df[\"perceived_lgbt\"].replace(\"No\", 0)\n",
    "\n",
    "### Perceived Gender\n",
    "df[\"perceived_gender\"] = df[\"perceived_gender\"].replace(\"Male\", 0)\n",
    "df[\"perceived_gender\"] = df[\"perceived_gender\"].replace(\"Female\", 1)\n",
    "df[\"perceived_gender\"] = df[\"perceived_gender\"].replace(\"Transgender man/boy\", 2)\n",
    "df[\"perceived_gender\"] = df[\"perceived_gender\"].replace(\"Transgender woman/girl\", 3)"
   ]
  },
  {
   "cell_type": "code",
   "execution_count": 5,
   "metadata": {},
   "outputs": [
    {
     "data": {
      "text/plain": [
       "0    451561\n",
       "1     12483\n",
       "Name: perceived_lgbt, dtype: int64"
      ]
     },
     "execution_count": 5,
     "metadata": {},
     "output_type": "execute_result"
    }
   ],
   "source": [
    "df[\"perceived_lgbt\"].value_counts()"
   ]
  },
  {
   "cell_type": "code",
   "execution_count": 6,
   "metadata": {},
   "outputs": [
    {
     "data": {
      "text/plain": [
       "0.0    338161\n",
       "1.0    124497\n",
       "2.0       707\n",
       "3.0       548\n",
       "Name: perceived_gender, dtype: int64"
      ]
     },
     "execution_count": 6,
     "metadata": {},
     "output_type": "execute_result"
    }
   ],
   "source": [
    "df[\"perceived_gender\"].value_counts()"
   ]
  },
  {
   "cell_type": "code",
   "execution_count": 7,
   "metadata": {},
   "outputs": [
    {
     "data": {
      "text/html": [
       "<div>\n",
       "<style scoped>\n",
       "    .dataframe tbody tr th:only-of-type {\n",
       "        vertical-align: middle;\n",
       "    }\n",
       "\n",
       "    .dataframe tbody tr th {\n",
       "        vertical-align: top;\n",
       "    }\n",
       "\n",
       "    .dataframe thead th {\n",
       "        text-align: right;\n",
       "    }\n",
       "</style>\n",
       "<table border=\"1\" class=\"dataframe\">\n",
       "  <thead>\n",
       "    <tr style=\"text-align: right;\">\n",
       "      <th></th>\n",
       "      <th>stop_id</th>\n",
       "      <th>ori</th>\n",
       "      <th>agency</th>\n",
       "      <th>exp_years</th>\n",
       "      <th>date_stop</th>\n",
       "      <th>time_stop</th>\n",
       "      <th>stopduration</th>\n",
       "      <th>stop_in_response_to_cfs</th>\n",
       "      <th>officer_assignment_key</th>\n",
       "      <th>assignment</th>\n",
       "      <th>...</th>\n",
       "      <th>beat_name</th>\n",
       "      <th>pid</th>\n",
       "      <th>isstudent</th>\n",
       "      <th>perceived_limited_english</th>\n",
       "      <th>perceived_age</th>\n",
       "      <th>perceived_gender</th>\n",
       "      <th>gender_nonconforming</th>\n",
       "      <th>gend</th>\n",
       "      <th>gend_nc</th>\n",
       "      <th>perceived_lgbt</th>\n",
       "    </tr>\n",
       "  </thead>\n",
       "  <tbody>\n",
       "    <tr>\n",
       "      <th>0</th>\n",
       "      <td>2443</td>\n",
       "      <td>CA0371100</td>\n",
       "      <td>SD</td>\n",
       "      <td>10</td>\n",
       "      <td>2018-07-01</td>\n",
       "      <td>00:01:37</td>\n",
       "      <td>30</td>\n",
       "      <td>0</td>\n",
       "      <td>1</td>\n",
       "      <td>Patrol, traffic enforcement, field operations</td>\n",
       "      <td>...</td>\n",
       "      <td>Pacific Beach 122</td>\n",
       "      <td>1</td>\n",
       "      <td>0</td>\n",
       "      <td>0</td>\n",
       "      <td>25</td>\n",
       "      <td>0.0</td>\n",
       "      <td>0</td>\n",
       "      <td>1</td>\n",
       "      <td>NaN</td>\n",
       "      <td>0</td>\n",
       "    </tr>\n",
       "    <tr>\n",
       "      <th>1</th>\n",
       "      <td>2444</td>\n",
       "      <td>CA0371100</td>\n",
       "      <td>SD</td>\n",
       "      <td>18</td>\n",
       "      <td>2018-07-01</td>\n",
       "      <td>00:03:34</td>\n",
       "      <td>10</td>\n",
       "      <td>0</td>\n",
       "      <td>1</td>\n",
       "      <td>Patrol, traffic enforcement, field operations</td>\n",
       "      <td>...</td>\n",
       "      <td>Mission Beach 121</td>\n",
       "      <td>1</td>\n",
       "      <td>0</td>\n",
       "      <td>0</td>\n",
       "      <td>25</td>\n",
       "      <td>0.0</td>\n",
       "      <td>0</td>\n",
       "      <td>1</td>\n",
       "      <td>NaN</td>\n",
       "      <td>0</td>\n",
       "    </tr>\n",
       "    <tr>\n",
       "      <th>2</th>\n",
       "      <td>2447</td>\n",
       "      <td>CA0371100</td>\n",
       "      <td>SD</td>\n",
       "      <td>1</td>\n",
       "      <td>2018-07-01</td>\n",
       "      <td>00:05:43</td>\n",
       "      <td>15</td>\n",
       "      <td>1</td>\n",
       "      <td>10</td>\n",
       "      <td>Other</td>\n",
       "      <td>...</td>\n",
       "      <td>El Cerrito 822</td>\n",
       "      <td>1</td>\n",
       "      <td>0</td>\n",
       "      <td>0</td>\n",
       "      <td>30</td>\n",
       "      <td>0.0</td>\n",
       "      <td>0</td>\n",
       "      <td>1</td>\n",
       "      <td>NaN</td>\n",
       "      <td>0</td>\n",
       "    </tr>\n",
       "    <tr>\n",
       "      <th>3</th>\n",
       "      <td>2447</td>\n",
       "      <td>CA0371100</td>\n",
       "      <td>SD</td>\n",
       "      <td>1</td>\n",
       "      <td>2018-07-01</td>\n",
       "      <td>00:05:43</td>\n",
       "      <td>15</td>\n",
       "      <td>1</td>\n",
       "      <td>10</td>\n",
       "      <td>Other</td>\n",
       "      <td>...</td>\n",
       "      <td>El Cerrito 822</td>\n",
       "      <td>2</td>\n",
       "      <td>0</td>\n",
       "      <td>0</td>\n",
       "      <td>30</td>\n",
       "      <td>1.0</td>\n",
       "      <td>0</td>\n",
       "      <td>2</td>\n",
       "      <td>NaN</td>\n",
       "      <td>0</td>\n",
       "    </tr>\n",
       "    <tr>\n",
       "      <th>4</th>\n",
       "      <td>2448</td>\n",
       "      <td>CA0371100</td>\n",
       "      <td>SD</td>\n",
       "      <td>3</td>\n",
       "      <td>2018-07-01</td>\n",
       "      <td>00:19:06</td>\n",
       "      <td>5</td>\n",
       "      <td>0</td>\n",
       "      <td>1</td>\n",
       "      <td>Patrol, traffic enforcement, field operations</td>\n",
       "      <td>...</td>\n",
       "      <td>Ocean Beach 614</td>\n",
       "      <td>1</td>\n",
       "      <td>0</td>\n",
       "      <td>0</td>\n",
       "      <td>23</td>\n",
       "      <td>0.0</td>\n",
       "      <td>0</td>\n",
       "      <td>1</td>\n",
       "      <td>NaN</td>\n",
       "      <td>0</td>\n",
       "    </tr>\n",
       "  </tbody>\n",
       "</table>\n",
       "<p>5 rows × 29 columns</p>\n",
       "</div>"
      ],
      "text/plain": [
       "   stop_id        ori agency  exp_years   date_stop time_stop  stopduration  \\\n",
       "0     2443  CA0371100     SD         10  2018-07-01  00:01:37            30   \n",
       "1     2444  CA0371100     SD         18  2018-07-01  00:03:34            10   \n",
       "2     2447  CA0371100     SD          1  2018-07-01  00:05:43            15   \n",
       "3     2447  CA0371100     SD          1  2018-07-01  00:05:43            15   \n",
       "4     2448  CA0371100     SD          3  2018-07-01  00:19:06             5   \n",
       "\n",
       "   stop_in_response_to_cfs  officer_assignment_key  \\\n",
       "0                        0                       1   \n",
       "1                        0                       1   \n",
       "2                        1                      10   \n",
       "3                        1                      10   \n",
       "4                        0                       1   \n",
       "\n",
       "                                      assignment  ...          beat_name  pid  \\\n",
       "0  Patrol, traffic enforcement, field operations  ...  Pacific Beach 122    1   \n",
       "1  Patrol, traffic enforcement, field operations  ...  Mission Beach 121    1   \n",
       "2                                          Other  ...     El Cerrito 822    1   \n",
       "3                                          Other  ...     El Cerrito 822    2   \n",
       "4  Patrol, traffic enforcement, field operations  ...    Ocean Beach 614    1   \n",
       "\n",
       "  isstudent perceived_limited_english perceived_age  perceived_gender  \\\n",
       "0         0                         0            25               0.0   \n",
       "1         0                         0            25               0.0   \n",
       "2         0                         0            30               0.0   \n",
       "3         0                         0            30               1.0   \n",
       "4         0                         0            23               0.0   \n",
       "\n",
       "  gender_nonconforming gend  gend_nc perceived_lgbt  \n",
       "0                    0    1      NaN              0  \n",
       "1                    0    1      NaN              0  \n",
       "2                    0    1      NaN              0  \n",
       "3                    0    2      NaN              0  \n",
       "4                    0    1      NaN              0  \n",
       "\n",
       "[5 rows x 29 columns]"
      ]
     },
     "execution_count": 7,
     "metadata": {},
     "output_type": "execute_result"
    }
   ],
   "source": [
    "df.head()"
   ]
  },
  {
   "cell_type": "code",
   "execution_count": 10,
   "metadata": {},
   "outputs": [],
   "source": [
    "df1 = df[[\"perceived_lgbt\", \"perceived_gender\", \"exp_years\", \"stopduration\"]]"
   ]
  },
  {
   "cell_type": "code",
   "execution_count": 11,
   "metadata": {},
   "outputs": [],
   "source": [
    "df1 = df1.dropna()"
   ]
  },
  {
   "cell_type": "code",
   "execution_count": 12,
   "metadata": {},
   "outputs": [
    {
     "data": {
      "text/plain": [
       "perceived_lgbt      0\n",
       "perceived_gender    0\n",
       "exp_years           0\n",
       "stopduration        0\n",
       "dtype: int64"
      ]
     },
     "execution_count": 12,
     "metadata": {},
     "output_type": "execute_result"
    }
   ],
   "source": [
    "df1.isna().sum()"
   ]
  },
  {
   "cell_type": "markdown",
   "metadata": {},
   "source": [
    "## Test Round"
   ]
  },
  {
   "cell_type": "code",
   "execution_count": 15,
   "metadata": {},
   "outputs": [
    {
     "name": "stdout",
     "output_type": "stream",
     "text": [
      "Fitting Kmeans\n",
      "Converged!\n",
      "Fitting MOG\n",
      "Fitting Birch\n"
     ]
    },
    {
     "data": {
      "image/png": "[encoded data removed]",
      "text/plain": [
       "<Figure size 1296x360 with 4 Axes>"
      ]
     },
     "metadata": {
      "needs_background": "light"
     },
     "output_type": "display_data"
    }
   ],
   "source": [
    "### Perceived LGBT vs. Exp Years (of officer)\n",
    "results = a.AssignmentFunction(np.array((df.perceived_lgbt, df.exp_years)).T, 3, 2000)\n",
    "PlotResults(np.array((df.perceived_lgbt, df.exp_years)),results, xaxis = \"Perceived LGBT\", yaxis =  \"Experience Years\")"
   ]
  },
  {
   "cell_type": "markdown",
   "metadata": {},
   "source": [
    "## Results"
   ]
  },
  {
   "cell_type": "code",
   "execution_count": 13,
   "metadata": {},
   "outputs": [],
   "source": [
    "cols = np.array((df1.perceived_gender, df1.stopduration)).T"
   ]
  },
  {
   "cell_type": "markdown",
   "metadata": {},
   "source": [
    "## 3 Clusters"
   ]
  },
  {
   "cell_type": "code",
   "execution_count": 14,
   "metadata": {},
   "outputs": [
    {
     "name": "stdout",
     "output_type": "stream",
     "text": [
      "Fitting Kmeans\n",
      "Converged!\n",
      "Fitting MOG\n",
      "Fitting Birch\n"
     ]
    },
    {
     "name": "stderr",
     "output_type": "stream",
     "text": [
      "/opt/anaconda3/lib/python3.7/site-packages/sklearn/cluster/_birch.py:649: ConvergenceWarning: Number of subclusters found (2) by Birch is less than (3). Decrease the threshold.\n",
      "  % (len(centroids), self.n_clusters), ConvergenceWarning)\n"
     ]
    },
    {
     "data": {
      "image/png": "[encoded data removed]",
      "text/plain": [
       "<Figure size 1296x360 with 4 Axes>"
      ]
     },
     "metadata": {
      "needs_background": "light"
     },
     "output_type": "display_data"
    }
   ],
   "source": [
    "results = a.AssignmentFunction(cols, 3, 2000)\n",
    "PlotResults(cols.T,results, xaxis = \"Perceived Gender\", yaxis =  \"Stop Duration\")\n"
   ]
  },
  {
   "cell_type": "markdown",
   "metadata": {},
   "source": [
    "## 4 Clusters"
   ]
  },
  {
   "cell_type": "code",
   "execution_count": null,
   "metadata": {},
   "outputs": [],
   "source": [
    "results = a.AssignmentFunction(cols, 4, 20)\n",
    "PlotResults(cols.T,results, xaxis = \"Perceived Gender\", yaxis =  \"Stop Duration\")\n"
   ]
  },
  {
   "cell_type": "markdown",
   "metadata": {},
   "source": [
    "## 5 Clusters"
   ]
  },
  {
   "cell_type": "code",
   "execution_count": 17,
   "metadata": {},
   "outputs": [
    {
     "name": "stdout",
     "output_type": "stream",
     "text": [
      "Fitting Kmeans\n",
      "Converged!\n",
      "Fitting MOG\n",
      "Fitting Birch\n"
     ]
    },
    {
     "data": {
      "image/png": "[encoded data removed]",
      "text/plain": [
       "<Figure size 1296x360 with 4 Axes>"
      ]
     },
     "metadata": {
      "needs_background": "light"
     },
     "output_type": "display_data"
    }
   ],
   "source": [
    "results = a.AssignmentFunction(np.array(((df1.perceived_gender), df1.stopduration)).T, 5, 2000)\n",
    "PlotResults(np.array((df1.perceived_gender, df1.stopduration)),results, xaxis = \"Perceived Gender\", yaxis =  \"Stop Duration\")\n"
   ]
  },
  {
   "cell_type": "markdown",
   "metadata": {},
   "source": [
    "## 7 Clusters"
   ]
  },
  {
   "cell_type": "code",
   "execution_count": 18,
   "metadata": {},
   "outputs": [
    {
     "name": "stdout",
     "output_type": "stream",
     "text": [
      "Fitting Kmeans\n",
      "Converged!\n",
      "Fitting MOG\n",
      "Fitting Birch\n"
     ]
    },
    {
     "data": {
      "image/png": "[encoded data removed]",
      "text/plain": [
       "<Figure size 1296x360 with 4 Axes>"
      ]
     },
     "metadata": {
      "needs_background": "light"
     },
     "output_type": "display_data"
    }
   ],
   "source": [
    "results = a.AssignmentFunction(np.array(((df1.perceived_gender), df1.stopduration)).T, 7, 2000)\n",
    "PlotResults(np.array((df1.perceived_gender, df1.stopduration)),results, xaxis = \"Perceived Gender\", yaxis =  \"Stop Duration\")\n"
   ]
  },
  {
   "cell_type": "code",
   "execution_count": null,
   "metadata": {},
   "outputs": [],
   "source": []
  }
 ],
 "metadata": {
  "kernelspec": {
   "display_name": "Python 3",
   "language": "python",
   "name": "python3"
  },
  "language_info": {
   "codemirror_mode": {
    "name": "ipython",
    "version": 3
   },
   "file_extension": ".py",
   "mimetype": "text/x-python",
   "name": "python",
   "nbconvert_exporter": "python",
   "pygments_lexer": "ipython3",
   "version": "3.7.4"
  }
 },
 "nbformat": 4,
 "nbformat_minor": 4
}
